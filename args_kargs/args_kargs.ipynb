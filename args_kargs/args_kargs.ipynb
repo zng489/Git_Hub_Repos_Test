{
 "cells": [
  {
   "cell_type": "code",
   "execution_count": 4,
   "metadata": {},
   "outputs": [
    {
     "name": "stdout",
     "output_type": "stream",
     "text": [
      "<class 'tuple'>\n",
      "1\n",
      "2\n",
      "end\n"
     ]
    }
   ],
   "source": [
    "\n",
    "def foo(*args):\n",
    "\n",
    "    print(type(args))\n",
    "\n",
    "    for arg in args:\n",
    "        print(arg)\n",
    "\n",
    "foo(1, 2, 'end')"
   ]
  },
  {
   "cell_type": "code",
   "execution_count": 5,
   "metadata": {},
   "outputs": [
    {
     "name": "stdout",
     "output_type": "stream",
     "text": [
      "<class 'dict'>\n",
      "a=1\n",
      "b=2\n",
      "z=end\n"
     ]
    }
   ],
   "source": [
    "\n",
    "def foo2(**kwargs):\n",
    "    print(type(kwargs))\n",
    "\n",
    "    for keyword, value in kwargs.items():\n",
    "        print(f'{keyword}={value}')\n",
    "        \n",
    "foo2(a=1, b=2, z='end')"
   ]
  },
  {
   "cell_type": "code",
   "execution_count": 8,
   "metadata": {},
   "outputs": [
    {
     "data": {
      "text/plain": [
       "'Hello, Eric. You are 74.'"
      ]
     },
     "execution_count": 8,
     "metadata": {},
     "output_type": "execute_result"
    }
   ],
   "source": [
    "name = \"Eric\"\n",
    "age = 74\n",
    "\n",
    "\"Hello, %s. You are %s.\" % (name, age)"
   ]
  },
  {
   "cell_type": "code",
   "execution_count": 9,
   "metadata": {},
   "outputs": [
    {
     "data": {
      "text/plain": [
       "'Hello, Eric. You are 74.'"
      ]
     },
     "execution_count": 9,
     "metadata": {},
     "output_type": "execute_result"
    }
   ],
   "source": [
    "\"Hello, {}. You are {}.\".format(name, age)"
   ]
  },
  {
   "cell_type": "code",
   "execution_count": 11,
   "metadata": {},
   "outputs": [
    {
     "data": {
      "text/plain": [
       "'Hello, Eric. You are 74.'"
      ]
     },
     "execution_count": 11,
     "metadata": {},
     "output_type": "execute_result"
    }
   ],
   "source": [
    " f\"Hello, {name}. You are {age}.\"\n",
    "\n",
    " # The f in f-strings may as well stand for “fast.”"
   ]
  },
  {
   "cell_type": "code",
   "execution_count": null,
   "metadata": {},
   "outputs": [],
   "source": []
  },
  {
   "cell_type": "code",
   "execution_count": 22,
   "metadata": {},
   "outputs": [
    {
     "name": "stdout",
     "output_type": "stream",
     "text": [
      "Trying name, age, height\n"
     ]
    }
   ],
   "source": [
    "class Project():\n",
    "    Objective = 'CNI_Project'\n",
    "\n",
    "    def __init__(self, x_1, x_2, x_3):\n",
    "        self.header_1 = x_1\n",
    "        self.header_2 = x_2\n",
    "        self.header_3 = x_3\n",
    "\n",
    "    def __str__(self):\n",
    "        return f'Trying {self.header_1}, {self.header_2}, {self.header_3}'\n",
    "\n",
    "\n",
    "    def working_going(self):\n",
    "        return True\n",
    "\n",
    "\n",
    "def main():\n",
    "    x_1 = 'name'\n",
    "    x_2 = 'age'\n",
    "    x_3 = 'height'\n",
    "\n",
    "    Constructor = Project(x_1, x_2, x_3)\n",
    "    print(Constructor)\n",
    "\n",
    "\n",
    "\n",
    "if __name__ == '__main__':\n",
    "    main()"
   ]
  },
  {
   "cell_type": "markdown",
   "metadata": {},
   "source": [
    "<h4> The '__init__' (__init__ Constructor) is a method which is used to give/ to assign to a object </h4>\n",
    "\n",
    "<h4> The __init__ method uses the keyword self to assign the values passed as arguments to the object attributes self.breed and self.eyeColor. </h4>\n",
    "\n",
    "<h4> The '__str__' method is to check the assign involved in the class </h4>"
   ]
  },
  {
   "cell_type": "code",
   "execution_count": null,
   "metadata": {},
   "outputs": [],
   "source": []
  },
  {
   "cell_type": "code",
   "execution_count": 31,
   "metadata": {},
   "outputs": [
    {
     "name": "stdout",
     "output_type": "stream",
     "text": [
      "Trying ('name', 'age', 'height')\n"
     ]
    }
   ],
   "source": [
    "class Project():\n",
    "    Objective = 'CNI_Project'\n",
    "\n",
    "    def __init__(self, *args):\n",
    "        self.header_args = args\n",
    "\n",
    "    def __str__(self):\n",
    "        return f'Trying {self.header_args}'\n",
    "\n",
    "\n",
    "    def working_going(self):\n",
    "        return True\n",
    "\n",
    "\n",
    "def main():\n",
    "\n",
    "    Constructor = Project('name', 'age', 'height')\n",
    "    print(Constructor)\n",
    "\n",
    "if __name__ == '__main__':\n",
    "    main()"
   ]
  },
  {
   "cell_type": "code",
   "execution_count": null,
   "metadata": {},
   "outputs": [],
   "source": []
  },
  {
   "cell_type": "code",
   "execution_count": 35,
   "metadata": {},
   "outputs": [
    {
     "name": "stdout",
     "output_type": "stream",
     "text": [
      "(('name', 'age', 'height'),)\n",
      "name\n",
      "age\n",
      "height\n"
     ]
    }
   ],
   "source": [
    "class Project():\n",
    "    Objective = 'CNI_Project'\n",
    "\n",
    "    def __init__(self, *args):\n",
    "        self.header_args = args\n",
    "\n",
    "    def __str__(self):\n",
    "        return f'{self.header_args}'\n",
    "\n",
    "\n",
    "    def working_going(self):\n",
    "        return True\n",
    "\n",
    "\n",
    "def main():\n",
    "    args = ('name', 'age', 'height')\n",
    "\n",
    "    Constructor = Project(args)\n",
    "    print(Constructor)\n",
    "\n",
    "    for i in args:\n",
    "        print(i)\n",
    "\n",
    "if __name__ == '__main__':\n",
    "    main()"
   ]
  }
 ],
 "metadata": {
  "interpreter": {
   "hash": "906be0654fa4f794130b25da4fa22a2354d14cb3748b068f983ea800452b001c"
  },
  "kernelspec": {
   "display_name": "Python 3.8.12 ('jupyter_conda_python_3.8')",
   "language": "python",
   "name": "python3"
  },
  "language_info": {
   "codemirror_mode": {
    "name": "ipython",
    "version": 3
   },
   "file_extension": ".py",
   "mimetype": "text/x-python",
   "name": "python",
   "nbconvert_exporter": "python",
   "pygments_lexer": "ipython3",
   "version": "3.8.12"
  },
  "orig_nbformat": 4
 },
 "nbformat": 4,
 "nbformat_minor": 2
}
